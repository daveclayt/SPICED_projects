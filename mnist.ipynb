{
 "cells": [
  {
   "cell_type": "code",
   "execution_count": 1,
   "metadata": {},
   "outputs": [],
   "source": [
    "import numpy as np\n",
    "from matplotlib import pyplot as plt\n",
    "%matplotlib inline\n",
    "from tensorflow.keras.datasets import mnist\n",
    "from tensorflow.keras.models import Sequential\n",
    "from tensorflow.keras.layers import Dense, Activation, Dropout, Flatten\n",
    "from tensorflow.keras.layers import Conv2D, MaxPooling2D\n",
    "from tensorflow.keras.optimizers import Adam\n",
    "from tensorflow.keras.utils import to_categorical\n",
    "from tensorflow.keras import backend as K\n",
    "from tensorflow.keras.callbacks import TensorBoard\n",
    "import os"
   ]
  },
  {
   "cell_type": "code",
   "execution_count": 2,
   "metadata": {},
   "outputs": [],
   "source": [
    "(xtrain, ytrain), (xtest, ytest) = mnist.load_data()"
   ]
  },
  {
   "cell_type": "code",
   "execution_count": 3,
   "metadata": {},
   "outputs": [
    {
     "data": {
      "image/png": "[encoded data removed]",
      "text/plain": [
       "<Figure size 432x288 with 25 Axes>"
      ]
     },
     "metadata": {
      "needs_background": "light"
     },
     "output_type": "display_data"
    }
   ],
   "source": [
    "for i in range(25):\n",
    "    plt.subplot(5, 5, i+1)\n",
    "    plt.imshow(xtrain[i], cmap=plt.cm.Greys)\n",
    "    plt.axis('off')"
   ]
  },
  {
   "cell_type": "code",
   "execution_count": 18,
   "metadata": {},
   "outputs": [],
   "source": [
    "K.clear_session()\n",
    "\n",
    "model = Sequential([\n",
    "    Dense(200, input_shape=(784,)),\n",
    "    Activation('relu'),\n",
    "    Dense(150),\n",
    "    Activation('sigmoid'),\n",
    "    Dense(10),\n",
    "    Activation('softmax'),\n",
    "])"
   ]
  },
  {
   "cell_type": "code",
   "execution_count": 19,
   "metadata": {},
   "outputs": [],
   "source": [
    "xtrain2 = xtrain.reshape(60000,28*28)"
   ]
  },
  {
   "cell_type": "code",
   "execution_count": 20,
   "metadata": {},
   "outputs": [],
   "source": [
    "ytrain2 = to_categorical(ytrain)"
   ]
  },
  {
   "cell_type": "code",
   "execution_count": 21,
   "metadata": {},
   "outputs": [],
   "source": [
    "xtest2 = xtest.reshape(10000,28*28)"
   ]
  },
  {
   "cell_type": "code",
   "execution_count": 22,
   "metadata": {},
   "outputs": [],
   "source": [
    "ytest2 = to_categorical(ytest)"
   ]
  },
  {
   "cell_type": "code",
   "execution_count": 23,
   "metadata": {},
   "outputs": [],
   "source": [
    "model.compile(optimizer='rmsprop', loss='categorical_crossentropy', metrics=['accuracy'])"
   ]
  },
  {
   "cell_type": "code",
   "execution_count": 24,
   "metadata": {},
   "outputs": [
    {
     "name": "stdout",
     "output_type": "stream",
     "text": [
      "Train on 48000 samples, validate on 12000 samples\n",
      "Epoch 1/80\n",
      "48000/48000 [==============================] - 1s 19us/step - loss: 0.5409 - acc: 0.8569 - val_loss: 0.2624 - val_acc: 0.9260\n",
      "Epoch 2/80\n",
      "48000/48000 [==============================] - 1s 16us/step - loss: 0.2405 - acc: 0.9283 - val_loss: 0.2123 - val_acc: 0.9378\n",
      "Epoch 3/80\n",
      "48000/48000 [==============================] - 1s 14us/step - loss: 0.1932 - acc: 0.9424 - val_loss: 0.1764 - val_acc: 0.9479\n",
      "Epoch 4/80\n",
      "48000/48000 [==============================] - 1s 15us/step - loss: 0.1681 - acc: 0.9501 - val_loss: 0.1605 - val_acc: 0.9539\n",
      "Epoch 5/80\n",
      "48000/48000 [==============================] - 1s 14us/step - loss: 0.1480 - acc: 0.9549 - val_loss: 0.1568 - val_acc: 0.9542\n",
      "Epoch 6/80\n",
      "48000/48000 [==============================] - 1s 15us/step - loss: 0.1371 - acc: 0.9582 - val_loss: 0.1467 - val_acc: 0.9552\n",
      "Epoch 7/80\n",
      "48000/48000 [==============================] - 1s 15us/step - loss: 0.1251 - acc: 0.9620 - val_loss: 0.1433 - val_acc: 0.9578\n",
      "Epoch 8/80\n",
      "48000/48000 [==============================] - 1s 14us/step - loss: 0.1207 - acc: 0.9635 - val_loss: 0.1315 - val_acc: 0.9616\n",
      "Epoch 9/80\n",
      "48000/48000 [==============================] - 1s 15us/step - loss: 0.1096 - acc: 0.9675 - val_loss: 0.1284 - val_acc: 0.9628\n",
      "Epoch 10/80\n",
      "48000/48000 [==============================] - 1s 14us/step - loss: 0.1051 - acc: 0.9681 - val_loss: 0.1235 - val_acc: 0.9617\n",
      "Epoch 11/80\n",
      "48000/48000 [==============================] - 1s 14us/step - loss: 0.1007 - acc: 0.9689 - val_loss: 0.1218 - val_acc: 0.9623\n",
      "Epoch 12/80\n",
      "48000/48000 [==============================] - 1s 15us/step - loss: 0.0974 - acc: 0.9700 - val_loss: 0.1308 - val_acc: 0.9612\n",
      "Epoch 13/80\n",
      "48000/48000 [==============================] - 1s 14us/step - loss: 0.0922 - acc: 0.9713 - val_loss: 0.1260 - val_acc: 0.9635\n",
      "Epoch 14/80\n",
      "48000/48000 [==============================] - 1s 15us/step - loss: 0.0878 - acc: 0.9733 - val_loss: 0.1127 - val_acc: 0.9662\n",
      "Epoch 15/80\n",
      "48000/48000 [==============================] - 1s 15us/step - loss: 0.0847 - acc: 0.9742 - val_loss: 0.1233 - val_acc: 0.9633\n",
      "Epoch 16/80\n",
      "48000/48000 [==============================] - 1s 14us/step - loss: 0.0816 - acc: 0.9745 - val_loss: 0.1115 - val_acc: 0.9669\n",
      "Epoch 17/80\n",
      "48000/48000 [==============================] - 1s 15us/step - loss: 0.0782 - acc: 0.9756 - val_loss: 0.1136 - val_acc: 0.9686\n",
      "Epoch 18/80\n",
      "48000/48000 [==============================] - 1s 14us/step - loss: 0.0800 - acc: 0.9751 - val_loss: 0.1117 - val_acc: 0.9668\n",
      "Epoch 19/80\n",
      "48000/48000 [==============================] - 1s 14us/step - loss: 0.0724 - acc: 0.9775 - val_loss: 0.1150 - val_acc: 0.9674\n",
      "Epoch 20/80\n",
      "48000/48000 [==============================] - 1s 15us/step - loss: 0.0697 - acc: 0.9783 - val_loss: 0.1101 - val_acc: 0.9690\n",
      "Epoch 21/80\n",
      "48000/48000 [==============================] - 1s 14us/step - loss: 0.0705 - acc: 0.9780 - val_loss: 0.1226 - val_acc: 0.9640\n",
      "Epoch 22/80\n",
      "48000/48000 [==============================] - 1s 15us/step - loss: 0.0684 - acc: 0.9786 - val_loss: 0.1127 - val_acc: 0.9673\n",
      "Epoch 23/80\n",
      "48000/48000 [==============================] - 1s 15us/step - loss: 0.0682 - acc: 0.9788 - val_loss: 0.1165 - val_acc: 0.9658\n",
      "Epoch 24/80\n",
      "48000/48000 [==============================] - 1s 14us/step - loss: 0.0645 - acc: 0.9808 - val_loss: 0.1075 - val_acc: 0.9710\n",
      "Epoch 25/80\n",
      "48000/48000 [==============================] - 1s 15us/step - loss: 0.0641 - acc: 0.9806 - val_loss: 0.1092 - val_acc: 0.9695\n",
      "Epoch 26/80\n",
      "48000/48000 [==============================] - 1s 16us/step - loss: 0.0623 - acc: 0.9800 - val_loss: 0.1165 - val_acc: 0.9662\n",
      "Epoch 27/80\n",
      "48000/48000 [==============================] - 1s 15us/step - loss: 0.0610 - acc: 0.9814 - val_loss: 0.1116 - val_acc: 0.9693\n",
      "Epoch 28/80\n",
      "48000/48000 [==============================] - 1s 15us/step - loss: 0.0599 - acc: 0.9818 - val_loss: 0.1079 - val_acc: 0.9703\n",
      "Epoch 29/80\n",
      "48000/48000 [==============================] - 1s 15us/step - loss: 0.0576 - acc: 0.9821 - val_loss: 0.0991 - val_acc: 0.9726\n",
      "Epoch 30/80\n",
      "48000/48000 [==============================] - 1s 15us/step - loss: 0.0558 - acc: 0.9828 - val_loss: 0.1175 - val_acc: 0.9683\n",
      "Epoch 31/80\n",
      "48000/48000 [==============================] - 1s 15us/step - loss: 0.0562 - acc: 0.9825 - val_loss: 0.1099 - val_acc: 0.9707\n",
      "Epoch 32/80\n",
      "48000/48000 [==============================] - 1s 14us/step - loss: 0.0558 - acc: 0.9828 - val_loss: 0.1163 - val_acc: 0.9686\n",
      "Epoch 33/80\n",
      "48000/48000 [==============================] - 1s 15us/step - loss: 0.0561 - acc: 0.9826 - val_loss: 0.1167 - val_acc: 0.9678\n",
      "Epoch 34/80\n",
      "48000/48000 [==============================] - 1s 14us/step - loss: 0.0555 - acc: 0.9828 - val_loss: 0.1018 - val_acc: 0.9719\n",
      "Epoch 35/80\n",
      "48000/48000 [==============================] - 1s 14us/step - loss: 0.0527 - acc: 0.9833 - val_loss: 0.1033 - val_acc: 0.9734\n",
      "Epoch 36/80\n",
      "48000/48000 [==============================] - 1s 15us/step - loss: 0.0525 - acc: 0.9837 - val_loss: 0.1001 - val_acc: 0.9735\n",
      "Epoch 37/80\n",
      "48000/48000 [==============================] - 1s 14us/step - loss: 0.0525 - acc: 0.9842 - val_loss: 0.1030 - val_acc: 0.9747\n",
      "Epoch 38/80\n",
      "48000/48000 [==============================] - 1s 15us/step - loss: 0.0508 - acc: 0.9851 - val_loss: 0.1196 - val_acc: 0.9682\n",
      "Epoch 39/80\n",
      "48000/48000 [==============================] - 1s 15us/step - loss: 0.0528 - acc: 0.9839 - val_loss: 0.1045 - val_acc: 0.9712\n",
      "Epoch 40/80\n",
      "48000/48000 [==============================] - 1s 14us/step - loss: 0.0490 - acc: 0.9846 - val_loss: 0.1262 - val_acc: 0.9679\n",
      "Epoch 41/80\n",
      "48000/48000 [==============================] - 1s 16us/step - loss: 0.0497 - acc: 0.9849 - val_loss: 0.1084 - val_acc: 0.9723\n",
      "Epoch 42/80\n",
      "48000/48000 [==============================] - 1s 16us/step - loss: 0.0468 - acc: 0.9860 - val_loss: 0.1109 - val_acc: 0.9716\n",
      "Epoch 43/80\n",
      "48000/48000 [==============================] - 1s 14us/step - loss: 0.0465 - acc: 0.9855 - val_loss: 0.1023 - val_acc: 0.9714\n",
      "Epoch 44/80\n",
      "48000/48000 [==============================] - 1s 15us/step - loss: 0.0451 - acc: 0.9858 - val_loss: 0.1120 - val_acc: 0.9700\n",
      "Epoch 45/80\n",
      "48000/48000 [==============================] - 1s 14us/step - loss: 0.0466 - acc: 0.9853 - val_loss: 0.1099 - val_acc: 0.9721\n",
      "Epoch 46/80\n",
      "48000/48000 [==============================] - 1s 15us/step - loss: 0.0449 - acc: 0.9862 - val_loss: 0.1112 - val_acc: 0.9716\n",
      "Epoch 47/80\n",
      "48000/48000 [==============================] - 1s 16us/step - loss: 0.0448 - acc: 0.9861 - val_loss: 0.1196 - val_acc: 0.9693\n",
      "Epoch 48/80\n",
      "48000/48000 [==============================] - 1s 14us/step - loss: 0.0463 - acc: 0.9858 - val_loss: 0.1126 - val_acc: 0.9725\n",
      "Epoch 49/80\n",
      "48000/48000 [==============================] - 1s 15us/step - loss: 0.0460 - acc: 0.9854 - val_loss: 0.1129 - val_acc: 0.9692\n",
      "Epoch 50/80\n",
      "48000/48000 [==============================] - 1s 15us/step - loss: 0.0438 - acc: 0.9865 - val_loss: 0.1103 - val_acc: 0.9716\n",
      "Epoch 51/80\n",
      "48000/48000 [==============================] - 1s 14us/step - loss: 0.0446 - acc: 0.9860 - val_loss: 0.1127 - val_acc: 0.9718\n",
      "Epoch 52/80\n",
      "48000/48000 [==============================] - 1s 15us/step - loss: 0.0457 - acc: 0.9861 - val_loss: 0.1035 - val_acc: 0.9706\n",
      "Epoch 53/80\n",
      "48000/48000 [==============================] - 1s 14us/step - loss: 0.0422 - acc: 0.9866 - val_loss: 0.1097 - val_acc: 0.9733\n",
      "Epoch 54/80\n",
      "48000/48000 [==============================] - 1s 15us/step - loss: 0.0446 - acc: 0.9855 - val_loss: 0.1066 - val_acc: 0.9728\n",
      "Epoch 55/80\n",
      "48000/48000 [==============================] - 1s 15us/step - loss: 0.0442 - acc: 0.9860 - val_loss: 0.1125 - val_acc: 0.9714\n",
      "Epoch 56/80\n",
      "48000/48000 [==============================] - 1s 15us/step - loss: 0.0429 - acc: 0.9867 - val_loss: 0.1138 - val_acc: 0.9714\n",
      "Epoch 57/80\n",
      "48000/48000 [==============================] - 1s 15us/step - loss: 0.0421 - acc: 0.9874 - val_loss: 0.1130 - val_acc: 0.9715\n",
      "Epoch 58/80\n",
      "48000/48000 [==============================] - 1s 16us/step - loss: 0.0394 - acc: 0.9873 - val_loss: 0.1192 - val_acc: 0.9698\n",
      "Epoch 59/80\n",
      "48000/48000 [==============================] - 1s 15us/step - loss: 0.0391 - acc: 0.9875 - val_loss: 0.1073 - val_acc: 0.9731\n",
      "Epoch 60/80\n"
     ]
    },
    {
     "name": "stdout",
     "output_type": "stream",
     "text": [
      "48000/48000 [==============================] - 1s 15us/step - loss: 0.0387 - acc: 0.9885 - val_loss: 0.1136 - val_acc: 0.9738\n",
      "Epoch 61/80\n",
      "48000/48000 [==============================] - 1s 14us/step - loss: 0.0400 - acc: 0.9875 - val_loss: 0.1169 - val_acc: 0.9724\n",
      "Epoch 62/80\n",
      "48000/48000 [==============================] - 1s 15us/step - loss: 0.0387 - acc: 0.9881 - val_loss: 0.1134 - val_acc: 0.9722\n",
      "Epoch 63/80\n",
      "48000/48000 [==============================] - 1s 15us/step - loss: 0.0390 - acc: 0.9879 - val_loss: 0.1095 - val_acc: 0.9730\n",
      "Epoch 64/80\n",
      "48000/48000 [==============================] - 1s 14us/step - loss: 0.0416 - acc: 0.9869 - val_loss: 0.1129 - val_acc: 0.9713\n",
      "Epoch 65/80\n",
      "48000/48000 [==============================] - 1s 15us/step - loss: 0.0405 - acc: 0.9878 - val_loss: 0.1172 - val_acc: 0.9714\n",
      "Epoch 66/80\n",
      "48000/48000 [==============================] - 1s 15us/step - loss: 0.0398 - acc: 0.9882 - val_loss: 0.1242 - val_acc: 0.9691\n",
      "Epoch 67/80\n",
      "48000/48000 [==============================] - 1s 14us/step - loss: 0.0395 - acc: 0.9879 - val_loss: 0.1252 - val_acc: 0.9718\n",
      "Epoch 68/80\n",
      "48000/48000 [==============================] - 1s 15us/step - loss: 0.0395 - acc: 0.9877 - val_loss: 0.1097 - val_acc: 0.9735\n",
      "Epoch 69/80\n",
      "48000/48000 [==============================] - 1s 14us/step - loss: 0.0410 - acc: 0.9873 - val_loss: 0.1163 - val_acc: 0.9716\n",
      "Epoch 70/80\n",
      "48000/48000 [==============================] - 1s 14us/step - loss: 0.0381 - acc: 0.9881 - val_loss: 0.1049 - val_acc: 0.9742\n",
      "Epoch 71/80\n",
      "48000/48000 [==============================] - 1s 15us/step - loss: 0.0361 - acc: 0.9891 - val_loss: 0.1087 - val_acc: 0.9738\n",
      "Epoch 72/80\n",
      "48000/48000 [==============================] - 1s 14us/step - loss: 0.0345 - acc: 0.9894 - val_loss: 0.1095 - val_acc: 0.9738\n",
      "Epoch 73/80\n",
      "48000/48000 [==============================] - 1s 15us/step - loss: 0.0348 - acc: 0.9900 - val_loss: 0.1199 - val_acc: 0.9736\n",
      "Epoch 74/80\n",
      "48000/48000 [==============================] - 1s 14us/step - loss: 0.0339 - acc: 0.9896 - val_loss: 0.1144 - val_acc: 0.9728\n",
      "Epoch 75/80\n",
      "48000/48000 [==============================] - 1s 15us/step - loss: 0.0348 - acc: 0.9891 - val_loss: 0.1213 - val_acc: 0.9719\n",
      "Epoch 76/80\n",
      "48000/48000 [==============================] - 1s 15us/step - loss: 0.0339 - acc: 0.9893 - val_loss: 0.1133 - val_acc: 0.9733\n",
      "Epoch 77/80\n",
      "48000/48000 [==============================] - 1s 15us/step - loss: 0.0322 - acc: 0.9902 - val_loss: 0.1137 - val_acc: 0.9745\n",
      "Epoch 78/80\n",
      "48000/48000 [==============================] - 1s 15us/step - loss: 0.0315 - acc: 0.9901 - val_loss: 0.1167 - val_acc: 0.9720\n",
      "Epoch 79/80\n",
      "48000/48000 [==============================] - 1s 15us/step - loss: 0.0327 - acc: 0.9901 - val_loss: 0.1227 - val_acc: 0.9703\n",
      "Epoch 80/80\n",
      "48000/48000 [==============================] - 1s 14us/step - loss: 0.0337 - acc: 0.9896 - val_loss: 0.1175 - val_acc: 0.9715\n"
     ]
    }
   ],
   "source": [
    "history = model.fit(xtrain2, ytrain2, epochs=80, validation_split=0.2, batch_size=200)"
   ]
  },
  {
   "cell_type": "code",
   "execution_count": 25,
   "metadata": {},
   "outputs": [
    {
     "name": "stdout",
     "output_type": "stream",
     "text": [
      "60000/60000 [==============================] - 0s 6us/step\n"
     ]
    },
    {
     "data": {
      "text/plain": [
       "[0.05130625036545098, 0.9855000096559524]"
      ]
     },
     "execution_count": 25,
     "metadata": {},
     "output_type": "execute_result"
    }
   ],
   "source": [
    "model.evaluate(xtrain2, ytrain2, batch_size=200)"
   ]
  },
  {
   "cell_type": "code",
   "execution_count": 26,
   "metadata": {},
   "outputs": [
    {
     "name": "stdout",
     "output_type": "stream",
     "text": [
      "10000/10000 [==============================] - 0s 5us/step\n"
     ]
    }
   ],
   "source": [
    "loss, accuracy = model.evaluate(xtest2, ytest2, batch_size=200)"
   ]
  },
  {
   "cell_type": "code",
   "execution_count": 27,
   "metadata": {},
   "outputs": [
    {
     "name": "stdout",
     "output_type": "stream",
     "text": [
      "Our loss is 0.10547848138259724 and our accuracy is 0.9740000045299531\n"
     ]
    }
   ],
   "source": [
    "print(f'Our loss is {loss} and our accuracy is {accuracy}')"
   ]
  },
  {
   "cell_type": "code",
   "execution_count": null,
   "metadata": {},
   "outputs": [],
   "source": []
  },
  {
   "cell_type": "code",
   "execution_count": 28,
   "metadata": {},
   "outputs": [
    {
     "data": {
      "image/png": "[encoded data removed]",
      "text/plain": [
       "<Figure size 432x288 with 1 Axes>"
      ]
     },
     "metadata": {
      "needs_background": "light"
     },
     "output_type": "display_data"
    }
   ],
   "source": [
    "plt.plot(history.history['acc'])\n",
    "plt.title('model accuracy')\n",
    "plt.ylabel('accuracy')\n",
    "plt.xlabel('epoch')\n",
    "plt.show()"
   ]
  },
  {
   "cell_type": "code",
   "execution_count": null,
   "metadata": {},
   "outputs": [],
   "source": []
  },
  {
   "cell_type": "code",
   "execution_count": null,
   "metadata": {},
   "outputs": [],
   "source": []
  }
 ],
 "metadata": {
  "kernelspec": {
   "display_name": "Python 3",
   "language": "python",
   "name": "python3"
  },
  "language_info": {
   "codemirror_mode": {
    "name": "ipython",
    "version": 3
   },
   "file_extension": ".py",
   "mimetype": "text/x-python",
   "name": "python",
   "nbconvert_exporter": "python",
   "pygments_lexer": "ipython3",
   "version": "3.6.8"
  }
 },
 "nbformat": 4,
 "nbformat_minor": 2
}
